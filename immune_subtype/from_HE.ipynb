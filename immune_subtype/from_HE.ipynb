{
 "cells": [
  {
   "cell_type": "code",
   "execution_count": 2,
   "metadata": {},
   "outputs": [],
   "source": [
    "import os\n",
    "import numpy as np\n",
    "import cv2\n",
    "import fnmatch\n",
    "from matplotlib import pyplot as plt"
   ]
  },
  {
   "cell_type": "code",
   "execution_count": 8,
   "metadata": {},
   "outputs": [
    {
     "ename": "error",
     "evalue": "OpenCV(4.6.0) :-1: error: (-5:Bad argument) in function 'resize'\n> Overload resolution failed:\n>  - Can't parse 'dsize'. Expected sequence length 2, got 3\n>  - Can't parse 'dsize'. Expected sequence length 2, got 3\n",
     "output_type": "error",
     "traceback": [
      "\u001b[0;31m---------------------------------------------------------------------------\u001b[0m",
      "\u001b[0;31merror\u001b[0m                                     Traceback (most recent call last)",
      "\u001b[0;32m/tmp/ipykernel_1179/1928578861.py\u001b[0m in \u001b[0;36m<module>\u001b[0;34m\u001b[0m\n\u001b[1;32m     88\u001b[0m \u001b[0;34m\u001b[0m\u001b[0m\n\u001b[1;32m     89\u001b[0m \u001b[0minput_path\u001b[0m \u001b[0;34m=\u001b[0m \u001b[0;34m\"/home/ext_jang_inyeop_mayo_edu/hwangt-share/post_process/VanAbel_Oropharynx_Tumor_TIL_Stroma/Van Abel-K_req32469_OPX TILs HE/\"\u001b[0m\u001b[0;34m\u001b[0m\u001b[0;34m\u001b[0m\u001b[0m\n\u001b[0;32m---> 90\u001b[0;31m \u001b[0mtils_density\u001b[0m\u001b[0;34m(\u001b[0m\u001b[0minput_path\u001b[0m\u001b[0;34m)\u001b[0m\u001b[0;34m\u001b[0m\u001b[0;34m\u001b[0m\u001b[0m\n\u001b[0m",
      "\u001b[0;32m/tmp/ipykernel_1179/1928578861.py\u001b[0m in \u001b[0;36mtils_density\u001b[0;34m(input_path)\u001b[0m\n\u001b[1;32m     33\u001b[0m             \u001b[0;31m#plt.imshow( tissue_mask_img)\u001b[0m\u001b[0;34m\u001b[0m\u001b[0;34m\u001b[0m\u001b[0;34m\u001b[0m\u001b[0m\n\u001b[1;32m     34\u001b[0m             \u001b[0;31m#plt.show()\u001b[0m\u001b[0;34m\u001b[0m\u001b[0;34m\u001b[0m\u001b[0;34m\u001b[0m\u001b[0m\n\u001b[0;32m---> 35\u001b[0;31m             \u001b[0mtissue_mask_img\u001b[0m \u001b[0;34m=\u001b[0m \u001b[0mcv2\u001b[0m\u001b[0;34m.\u001b[0m\u001b[0mresize\u001b[0m\u001b[0;34m(\u001b[0m\u001b[0mtissue_mask_img\u001b[0m\u001b[0;34m,\u001b[0m \u001b[0;34m(\u001b[0m\u001b[0mtil_img\u001b[0m\u001b[0;34m.\u001b[0m\u001b[0mshape\u001b[0m\u001b[0;34m[\u001b[0m\u001b[0;36m0\u001b[0m\u001b[0;34m]\u001b[0m\u001b[0;34m,\u001b[0m\u001b[0mtil_img\u001b[0m\u001b[0;34m.\u001b[0m\u001b[0mshape\u001b[0m\u001b[0;34m[\u001b[0m\u001b[0;36m1\u001b[0m\u001b[0;34m]\u001b[0m\u001b[0;34m,\u001b[0m \u001b[0;36m3\u001b[0m\u001b[0;34m)\u001b[0m\u001b[0;34m)\u001b[0m\u001b[0;34m\u001b[0m\u001b[0;34m\u001b[0m\u001b[0m\n\u001b[0m\u001b[1;32m     36\u001b[0m             \u001b[0mR\u001b[0m\u001b[0;34m,\u001b[0m \u001b[0mG\u001b[0m\u001b[0;34m,\u001b[0m \u001b[0mB\u001b[0m \u001b[0;34m=\u001b[0m \u001b[0mtissue_mask_img\u001b[0m\u001b[0;34m[\u001b[0m\u001b[0;34m:\u001b[0m\u001b[0;34m,\u001b[0m\u001b[0;34m:\u001b[0m\u001b[0;34m,\u001b[0m\u001b[0;36m0\u001b[0m\u001b[0;34m]\u001b[0m\u001b[0;34m,\u001b[0m \u001b[0mtissue_mask_img\u001b[0m\u001b[0;34m[\u001b[0m\u001b[0;34m:\u001b[0m\u001b[0;34m,\u001b[0m\u001b[0;34m:\u001b[0m\u001b[0;34m,\u001b[0m\u001b[0;36m1\u001b[0m\u001b[0;34m]\u001b[0m\u001b[0;34m,\u001b[0m \u001b[0mtissue_mask_img\u001b[0m\u001b[0;34m[\u001b[0m\u001b[0;34m:\u001b[0m\u001b[0;34m,\u001b[0m\u001b[0;34m:\u001b[0m\u001b[0;34m,\u001b[0m\u001b[0;36m2\u001b[0m\u001b[0;34m]\u001b[0m\u001b[0;34m\u001b[0m\u001b[0;34m\u001b[0m\u001b[0m\n\u001b[1;32m     37\u001b[0m             \u001b[0mtissue_mask_img_gray\u001b[0m \u001b[0;34m=\u001b[0m \u001b[0mnp\u001b[0m\u001b[0;34m.\u001b[0m\u001b[0mmean\u001b[0m\u001b[0;34m(\u001b[0m\u001b[0;34m[\u001b[0m\u001b[0mR\u001b[0m\u001b[0;34m,\u001b[0m\u001b[0mG\u001b[0m\u001b[0;34m,\u001b[0m\u001b[0mB\u001b[0m\u001b[0;34m]\u001b[0m\u001b[0;34m,\u001b[0m \u001b[0maxis\u001b[0m\u001b[0;34m=\u001b[0m\u001b[0;36m0\u001b[0m\u001b[0;34m)\u001b[0m\u001b[0;34m\u001b[0m\u001b[0;34m\u001b[0m\u001b[0m\n",
      "\u001b[0;31merror\u001b[0m: OpenCV(4.6.0) :-1: error: (-5:Bad argument) in function 'resize'\n> Overload resolution failed:\n>  - Can't parse 'dsize'. Expected sequence length 2, got 3\n>  - Can't parse 'dsize'. Expected sequence length 2, got 3\n"
     ]
    }
   ],
   "source": [
    "def tils_density(input_path):\n",
    "    tils_hm_files = fnmatch.filter(os.listdir(input_path+'pred_tils/'), '*Tumor*_gray.png')\n",
    "    tils_hm_files.sort()\n",
    "    M=17; N=17\n",
    "    with open('result_Tumor_tils_density_test.csv', 'a') as outfile :\n",
    "        outfile.write('file_name,immune_infl,immune_excl,immune_des\\n')\n",
    "        for tils_file in tils_hm_files :\n",
    "            tissue_mask_file = tils_file.split('_gray')[0] + '.png'\n",
    "            tumor_file = tils_file\n",
    "            til = input_path + '/pred_tils/' + tils_file\n",
    "            tissue_mask = input_path + '/tissue_mask/'+ tissue_mask_file\n",
    "            tumor = input_path + '/pred_tumor/' + tumor_file\n",
    "            stroma=input_path + '/pred_stromal/' + tils_file\n",
    "            til_img = plt.imread(til)\n",
    "            #plt.imshow(til_img)\n",
    "            #plt.show()\n",
    "            #print('til:',til_img.shape)\n",
    "            R, G, B = til_img[:,:,0], til_img[:,:,1], til_img[:,:,2]\n",
    "            til_img_gray=np.mean([R,G,B], axis=0)\n",
    "            til_img_gray[til_img_gray >= 0.5] = 1\n",
    "            til_img_gray[til_img_gray < 0.5] = 0\n",
    "            tumor_img = plt.imread(tumor)\n",
    "            #print('Tumor:',tumor_img.shape)\n",
    "            #plt.imshow(tumor_img)\n",
    "            #plt.show()\n",
    "            R, G, B = tumor_img[:,:,0], tumor_img[:,:,1], tumor_img[:,:,2]\n",
    "            tumor_img_gray = np.mean([R,G,B], axis=0)\n",
    "            tumor_img_gray[tumor_img_gray >= 0.5] = 1\n",
    "            tumor_img_gray[tumor_img_gray < 0.5] = 0\n",
    "            tumor_img_gray = cv2.resize(tumor_img_gray, (til_img_gray.shape[0],til_img_gray.shape[1]))\n",
    "            tissue_mask_img = plt.imread(tissue_mask)\n",
    "            #print('tissue:',tissue_mask_img.shape)\n",
    "            #plt.imshow( tissue_mask_img)\n",
    "            #plt.show()\n",
    "            tissue_mask_img = cv2.resize(tissue_mask_img, (til_img.shape[0],til_img.shape[1], 3))\n",
    "            R, G, B = tissue_mask_img[:,:,0], tissue_mask_img[:,:,1], tissue_mask_img[:,:,2]\n",
    "            tissue_mask_img_gray = np.mean([R,G,B], axis=0)\n",
    "            tissue_mask_img_gray[tissue_mask_img_gray >= 0.5] = 1\n",
    "            tissue_mask_img_gray[tissue_mask_img_gray < 0.5] = 0\n",
    "            tiles = [tissue_mask_img_gray[x:x+M,y:y+N] for x in range(0,tissue_mask_img_gray.shape[0],M) for y in range(0,tissue_mask_img_gray.shape[1],N)]\n",
    "            #print(tiles)\n",
    "            stroma_img = plt.imread(stroma)\n",
    "            stroma_img = cv2.resize(stroma_img, (til_img_gray.shape[0],til_img_gray.shape[1]))\n",
    "            R, G, B = stroma_img[:,:,0], stroma_img[:,:,1], stroma_img[:,:,2]\n",
    "            stroma_img = np.mean([R,G,B], axis=0)\n",
    "            #print('stroma:',stroma_img.shape)\n",
    "            #plt.imshow(stroma_img)\n",
    "            #plt.show()\n",
    "            overlap_tt = til_img_gray + tumor_img_gray #overlap TIL and Tumor\n",
    "            overlap_ts=til_img_gray + stroma_img#overlap of til and stroma\n",
    "            overlap_tst=tissue_mask_img_gray + til_img_gray\n",
    "            c_overlap_tt = overlap_tt > 1 #binarize\n",
    "            c_overlap_ts=overlap_ts > 1\n",
    "            c_overlap_tst=overlap_tst > 1\n",
    "            imm_inf=0\n",
    "            imm_excl=0\n",
    "            imm_des=0\n",
    "            c_tissue=0\n",
    "            i=0\n",
    "            for x in range(0,tissue_mask_img_gray.shape[0],M):\n",
    "                for y in range(0,tissue_mask_img_gray.shape[1],N):\n",
    "                    #print(i)\n",
    "                    #print(tiles[i].sum())\n",
    "                    if (tiles[i].sum())>100:\n",
    "                        tissue_sum=tiles[i].sum()\n",
    "                        c_tissue+=1 #count the number of tissue tiles\n",
    "                        overlap_count_tt = sum(map(lambda x : x == True, c_overlap_tt[x:x+M,y:y+N]))#count the overlap ratio\n",
    "                        overlap_count_ts = sum(map(lambda x : x == True, c_overlap_ts[x:x+M,y:y+N]))\n",
    "                        overlap_count_tst = sum(map(lambda x : x == True, c_overlap_tst[x:x+M,y:y+N]))\n",
    "                        sum_overlap_tt = np.sum(overlap_count_tt)\n",
    "                        sum_overlap_ts = np.sum(overlap_count_ts)\n",
    "                        sum_overlap_tst = np.sum(overlap_count_tst)\n",
    "                        #print(sum_overlap_tt/np.count_nonzero(tumor_img_gray[x:x+M,y:y+N]),sum_overlap_ts/np.count_nonzero(stroma_img[x:x+M,y:y+N]),sum_overlap_tst)\n",
    "                        if np.isnan(sum_overlap_tt/np.count_nonzero(tumor_img_gray[x:x+M,y:y+N]))==False and sum_overlap_tt/np.count_nonzero(tumor_img_gray[x:x+M,y:y+N]) > 0.4:\n",
    "                            imm_inf+=1\n",
    "                        elif np.isnan(sum_overlap_ts/np.count_nonzero(stroma_img[x:x+M,y:y+N]))==False and sum_overlap_ts/np.count_nonzero(stroma_img[x:x+M,y:y+N]) >0.2:\n",
    "                            imm_excl+=1\n",
    "                        else:\n",
    "                            imm_des+=1\n",
    "                    i+=1\n",
    "            print(tissue_mask_file.split('_')[0],imm_inf,imm_excl,c_tissue,imm_des)\n",
    "            outfile.write(tissue_mask_file.split('_')[0]\n",
    "                              + ',' + str(imm_inf/c_tissue)\n",
    "                              + ',' + str(imm_excl/c_tissue)\n",
    "                              + ',' + str(imm_des/c_tissue) + '\\n')\n",
    "    outfile.close()\n",
    "\n",
    "\n",
    "input_path = \"/home/ext_jang_inyeop_mayo_edu/hwangt-share/post_process/VanAbel_Oropharynx_Tumor_TIL_Stroma/Van Abel-K_req32469_OPX TILs HE/\"\n",
    "tils_density(input_path)\n"
   ]
  }
 ],
 "metadata": {
  "kernelspec": {
   "display_name": "base",
   "language": "python",
   "name": "python3"
  },
  "language_info": {
   "codemirror_mode": {
    "name": "ipython",
    "version": 3
   },
   "file_extension": ".py",
   "mimetype": "text/x-python",
   "name": "python",
   "nbconvert_exporter": "python",
   "pygments_lexer": "ipython3",
   "version": "3.7.12"
  },
  "orig_nbformat": 4,
  "vscode": {
   "interpreter": {
    "hash": "d4d1e4263499bec80672ea0156c357c1ee493ec2b1c70f0acce89fc37c4a6abe"
   }
  }
 },
 "nbformat": 4,
 "nbformat_minor": 2
}
